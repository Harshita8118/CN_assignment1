{
 "cells": [
  {
   "cell_type": "markdown",
   "metadata": {},
   "source": [
    "Part 1: Metrics and Plots (40 pts) From the chosen X.pcap file, extract and generate the following metrics for the data as captured by your program when you perform the pcap replay using tools like tcpreplay:"
   ]
  },
  {
   "cell_type": "markdown",
   "metadata": {},
   "source": [
    "1: Find the total amount of data transferred (in bytes), the total number of packets transferred, and the 1 minimum, maximum, and average packet sizes. Also, show the distribution of packet sizes (eg. by plotting a histogram of packet sizes). "
   ]
  },
  {
   "cell_type": "code",
   "execution_count": 5,
   "metadata": {},
   "outputs": [],
   "source": [
    "from scapy.all import rdpcap, IP\n",
    "import matplotlib.pyplot as plt\n",
    "\n",
    "def analyze_packet_sizes(pcap_file):\n",
    "    packets = rdpcap(pcap_file)\n",
    "    \n",
    "    total_data = 0\n",
    "    total_packets = len(packets)\n",
    "    min_size = float('inf')\n",
    "    max_size = 0\n",
    "    size_list = []\n",
    "\n",
    "    # Loop over all packets in the pcap file\n",
    "    for packet in packets:\n",
    "        if packet.haslayer(IP):  # Only process packets with IP layer\n",
    "            size = len(packet)\n",
    "            total_data += size\n",
    "            size_list.append(size)\n",
    "            min_size = min(min_size, size)\n",
    "            max_size = max(max_size, size)\n",
    "\n",
    "    # Calculate average packet size\n",
    "    avg_size = total_data / total_packets if total_packets else 0\n",
    "\n",
    "    # Print the results\n",
    "    print(f\"Total Data Transferred: {total_data} bytes\")\n",
    "    print(f\"Total Packets: {total_packets}\")\n",
    "    print(f\"Min Packet Size: {min_size} bytes\")\n",
    "    print(f\"Max Packet Size: {max_size} bytes\")\n",
    "    print(f\"Average Packet Size: {avg_size} bytes\")\n",
    "\n",
    "    # Plot the distribution of packet sizes\n",
    "    if size_list:\n",
    "        plt.hist(size_list, bins=50)\n",
    "        plt.title(\"Packet Size Distribution\")\n",
    "        plt.xlabel(\"Packet Size (Bytes)\")\n",
    "        plt.ylabel(\"Frequency\")\n",
    "        plt.show()\n",
    "    else:\n",
    "        print(\"No packets with size information to plot.\")\n"
   ]
  },
  {
   "cell_type": "markdown",
   "metadata": {},
   "source": [
    "2: Find unique source-destination pairs (source IP port and destination IP port) in the captured data"
   ]
  },
  {
   "cell_type": "code",
   "execution_count": 6,
   "metadata": {},
   "outputs": [],
   "source": [
    "def unique_source_dest_pairs(pcap_file):\n",
    "    packets = rdpcap(pcap_file)\n",
    "    unique_pairs = set()\n",
    "\n",
    "    # Loop over all packets in the pcap file\n",
    "    for packet in packets:\n",
    "        if packet.haslayer(IP):  # Only process packets with IP layer\n",
    "            src = packet[IP].src\n",
    "            dst = packet[IP].dst\n",
    "            unique_pairs.add((src, dst))\n",
    "\n",
    "    # Print the unique source-destination pairs\n",
    "    print(f\"Unique Source-Destination Pairs: {len(unique_pairs)}\")\n",
    "    print(unique_pairs)\n"
   ]
  },
  {
   "cell_type": "markdown",
   "metadata": {},
   "source": [
    "3:Display a dictionary where the key is the IP address and the value is the total flows for that IP address as the source. Similarly display a dictionary where the key is the IP address and the value is the total flows for that IP address as the destination. Find out which source-destination (source IP port and destination IP port) have transferred the most data"
   ]
  },
  {
   "cell_type": "code",
   "execution_count": 7,
   "metadata": {},
   "outputs": [],
   "source": [
    "def flow_counts(pcap_file):\n",
    "    packets = rdpcap(pcap_file)\n",
    "    src_flow_dict = {}\n",
    "    dst_flow_dict = {}\n",
    "\n",
    "    # Loop over all packets in the pcap file\n",
    "    for packet in packets:\n",
    "        if packet.haslayer(IP):  # Only process packets with IP layer\n",
    "            src = packet[IP].src\n",
    "            dst = packet[IP].dst\n",
    "\n",
    "            # Update source flow count\n",
    "            if src in src_flow_dict:\n",
    "                src_flow_dict[src] += 1\n",
    "            else:\n",
    "                src_flow_dict[src] = 1\n",
    "\n",
    "            # Update destination flow count\n",
    "            if dst in dst_flow_dict:\n",
    "                dst_flow_dict[dst] += 1\n",
    "            else:\n",
    "                dst_flow_dict[dst] = 1\n",
    "\n",
    "    # Print the flow counts\n",
    "    print(f\"Source Flow Counts: {src_flow_dict}\")\n",
    "    print(f\"Destination Flow Counts: {dst_flow_dict}\")\n"
   ]
  },
  {
   "cell_type": "markdown",
   "metadata": {},
   "source": [
    "4:List the top speed in terms of pps and mbps' that your program is able to capture the content without any loss of data when ij running both topreplay and your program on the same machine (VM), and s when running on oifferent machines Two student group should run the program on two different machines, eg topreplay on physical machine of studentt and sniffer program physical-machine of Muten. Single students should run between two VMs"
   ]
  },
  {
   "cell_type": "code",
   "execution_count": 8,
   "metadata": {},
   "outputs": [],
   "source": [
    "def max_data_flow(pcap_file):\n",
    "    packets = rdpcap(pcap_file)\n",
    "    flow_data_dict = {}\n",
    "\n",
    "    # Loop over all packets in the pcap file\n",
    "    for packet in packets:\n",
    "        if packet.haslayer(IP):  # Only process packets with IP layer\n",
    "            src = packet[IP].src\n",
    "            dst = packet[IP].dst\n",
    "            flow_pair = (src, dst)\n",
    "            packet_size = len(packet)\n",
    "\n",
    "            # Update flow data count\n",
    "            if flow_pair in flow_data_dict:\n",
    "                flow_data_dict[flow_pair] += packet_size\n",
    "            else:\n",
    "                flow_data_dict[flow_pair] = packet_size\n",
    "\n",
    "    # Find the flow with the maximum data transferred\n",
    "    max_flow = max(flow_data_dict, key=flow_data_dict.get)\n",
    "    print(f\"Source-Destination Pair with Most Data: {max_flow}\")\n",
    "    print(f\"Total Data Transferred: {flow_data_dict[max_flow]} bytes\")\n"
   ]
  }
 ],
 "metadata": {
  "kernelspec": {
   "display_name": "Python (myenv)",
   "language": "python",
   "name": "myenv"
  },
  "language_info": {
   "codemirror_mode": {
    "name": "ipython",
    "version": 3
   },
   "file_extension": ".py",
   "mimetype": "text/x-python",
   "name": "python",
   "nbconvert_exporter": "python",
   "pygments_lexer": "ipython3",
   "version": "3.12.3"
  }
 },
 "nbformat": 4,
 "nbformat_minor": 2
}
